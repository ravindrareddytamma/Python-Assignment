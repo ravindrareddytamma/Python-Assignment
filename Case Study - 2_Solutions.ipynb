{
 "cells": [
  {
   "cell_type": "code",
   "execution_count": null,
   "metadata": {
    "collapsed": true
   },
   "outputs": [],
   "source": [
    "import pandas as pd\n",
    "import numpy as np"
   ]
  },
  {
   "cell_type": "code",
   "execution_count": null,
   "metadata": {},
   "outputs": [],
   "source": [
    "data = pd.read_csv('Store.csv', encoding='ISO-8859-1')\n",
    "data.head()\n"
   ]
  },
  {
   "cell_type": "code",
   "execution_count": null,
   "metadata": {},
   "outputs": [],
   "source": [
    "# How many unique cities are the orders being delivered to\n",
    "uniq_cities = len(set(data.City))\n",
    "print(\"Number of Uniques Cities Order Delivered:\",uniq_cities)\n",
    "\n"
   ]
  },
  {
   "cell_type": "code",
   "execution_count": null,
   "metadata": {},
   "outputs": [],
   "source": [
    "# What is the total quantity sold in the East Region?\n",
    "east_quant = np.sum(data[data.Region == 'East']['Quantity'])\n",
    "print(\"Total Quantity sold in the East Region is:\",east_quant)"
   ]
  },
  {
   "cell_type": "code",
   "execution_count": null,
   "metadata": {},
   "outputs": [],
   "source": [
    "# Find the sum of the quantity sold in the North Region\n",
    "north_quant = np.sum(data[data.Region == 'Central']['Quantity'])\n",
    "print(\"Total Quantity sold in the East Region is:\",north_quant)"
   ]
  },
  {
   "cell_type": "code",
   "execution_count": null,
   "metadata": {},
   "outputs": [],
   "source": [
    "# In the south region sort the sales in decreasing order\n",
    "south_order = data[data.Region == 'South']['Sales']\n",
    "south_order = [float(format(x,'0.4f')) for x in south_order]\n",
    "print(\"Sales values in South region sorted by Sales Descending is:\\n\",sorted(south_order,reverse=True))"
   ]
  },
  {
   "cell_type": "code",
   "execution_count": null,
   "metadata": {},
   "outputs": [],
   "source": [
    "# Find the mean of quantity for every region\n",
    "grouped_region = data.groupby('Region')\n",
    "print(\"Mean Quantity for Every Region :\",grouped_region['Quantity'].mean())"
   ]
  },
  {
   "cell_type": "code",
   "execution_count": null,
   "metadata": {},
   "outputs": [],
   "source": [
    "# Find the mean of sales for every category\n",
    "grouped_category = data.groupby('Category')\n",
    "print(\"Mean Sales for Every Category :\",grouped_category['Sales'].mean())"
   ]
  },
  {
   "cell_type": "code",
   "execution_count": null,
   "metadata": {},
   "outputs": [],
   "source": [
    "# Find the max, min, sum of sales and profit for every category\n",
    "print(\"Sum Sales for Every Category :\",grouped_category['Sales'].sum())\n",
    "print(\"Minimum Sales for Every Category :\",grouped_category['Sales'].min())\n",
    "print(\"Maximum Sales for Every Category :\",grouped_category['Sales'].max())"
   ]
  },
  {
   "cell_type": "code",
   "execution_count": null,
   "metadata": {},
   "outputs": [],
   "source": [
    "#Find sum of sales and max profit for every segment\n",
    "group_seg = data.groupby('Segment')\n",
    "segments_sales = group_seg['Sales'].sum()\n",
    "segments_profit = group_seg['Profit'].max()\n",
    "print(\"Segment wise total sales:\",segments_sales)\n",
    "print(\"Segment wise maximum profit:\",segments_profit)\n"
   ]
  },
  {
   "cell_type": "code",
   "execution_count": null,
   "metadata": {},
   "outputs": [],
   "source": [
    "# For every segment find the mean of the discount\n",
    "mean = group_seg['Discount'].mean()\n",
    "print(\"Mean of Discounts in every segment\",mean)"
   ]
  },
  {
   "cell_type": "code",
   "execution_count": null,
   "metadata": {},
   "outputs": [],
   "source": [
    "# For every segment find the most profitable customers\n",
    "def get_cid(pro):\n",
    "    pro = pro.max()\n",
    "    return data[data.Profit == pro]['Customer Name']\n",
    "group_seg = data.groupby('Segment').agg({'Profit': [get_cid,'max']})\n",
    "print(group_seg)"
   ]
  },
  {
   "cell_type": "code",
   "execution_count": null,
   "metadata": {},
   "outputs": [],
   "source": [
    "#What are the top 5 Sub categories that give maximum profit?\n",
    "group_subcat = data.groupby('Sub-Category').Profit.max().nlargest(5)\n",
    "print(\"Sub Categories that give more profit\",group_subcat)"
   ]
  },
  {
   "cell_type": "code",
   "execution_count": null,
   "metadata": {},
   "outputs": [],
   "source": [
    "#What is the Total Sales, Quantity, Discount, Profit across Total US.\n",
    "data[data.Country == 'United States'][['Sales','Quantity','Discount','Profit']].sum()\n"
   ]
  },
  {
   "cell_type": "code",
   "execution_count": null,
   "metadata": {},
   "outputs": [],
   "source": [
    "#How many times has it taken more than 5 days from placing an order to shipping\n",
    "data['Order Date'] = pd.to_datetime(data['Order Date'])\n",
    "data['Ship Date'] = pd.to_datetime(data['Ship Date'])\n",
    "days = data['Ship Date'] - data['Order Date']\n",
    "sum(days > '5 days')"
   ]
  },
  {
   "cell_type": "code",
   "execution_count": null,
   "metadata": {},
   "outputs": [],
   "source": [
    "#Find the total number of orders in every category which has been shipped with a duration > 5 days\n",
    "data['Days_Elapsed'] = data['Ship Date'] - data['Order Date']\n",
    "data[data.Days_Elapsed > '5 days'].groupby('Category')['Order ID'].count()"
   ]
  },
  {
   "cell_type": "code",
   "execution_count": null,
   "metadata": {},
   "outputs": [],
   "source": [
    "#What’s the percentage of items which has been shipped within 5 days\n",
    "data[data.Days_Elapsed <= '5 days']['Order ID'].count()/len(data.axes[0])*100"
   ]
  },
  {
   "cell_type": "code",
   "execution_count": null,
   "metadata": {},
   "outputs": [],
   "source": [
    "#What’s the percentage of items which has been shipped after 5 days\n",
    "data[data.Days_Elapsed > '5 days']['Order ID'].count()/len(data.axes[0])*100"
   ]
  }
 ],
 "metadata": {
  "kernelspec": {
   "display_name": "Python 3",
   "language": "python",
   "name": "python3"
  },
  "language_info": {
   "codemirror_mode": {
    "name": "ipython",
    "version": 3
   },
   "file_extension": ".py",
   "mimetype": "text/x-python",
   "name": "python",
   "nbconvert_exporter": "python",
   "pygments_lexer": "ipython3",
   "version": "3.6.3"
  }
 },
 "nbformat": 4,
 "nbformat_minor": 2
}
