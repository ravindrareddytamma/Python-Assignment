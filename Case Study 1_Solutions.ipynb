{
 "cells": [
  {
   "cell_type": "code",
   "execution_count": null,
   "metadata": {},
   "outputs": [],
   "source": [
    "import pandas as pd\n",
    "import numpy as np\n",
    "\n",
    "oj_df = pd.read_csv('oj.csv',header = 0)\n"
   ]
  },
  {
   "cell_type": "code",
   "execution_count": null,
   "metadata": {},
   "outputs": [],
   "source": [
    "#Find the dimensions of the oj data set\n",
    "oj_df.shape\n",
    "\n",
    "#Find the structure of the data set\n",
    "oj_df.info()\n",
    "\n",
    "#Find out the column names in the data set\n",
    "oj_df.columns\n",
    "\n",
    "#Describe the data set\n",
    "oj_df.describe()"
   ]
  },
  {
   "cell_type": "code",
   "execution_count": null,
   "metadata": {},
   "outputs": [],
   "source": [
    "# 1.Fetch the first row 3rd column from the data set\n",
    "oj_df.iloc[0][2]\n",
    "\n",
    "#Fetch the first, second and Third columns of the oj data frame\n",
    "oj_df.iloc[:,0:3]\n",
    "\n",
    "#Fetch the first, second, eighth and the 456th rows of the 1st, third and the sixth columns of the data frame\n",
    "oj_df.iloc[[0,1,7,455],[0,2,5]]\n",
    "\n",
    "#Fetch the top 5 rows of the brand column\n",
    "oj_df.brand.head()\n",
    "\n",
    "#Fetch top 5 rows of the brand, week and feat details\n",
    "oj_df[['brand','feat','week']].head()\n",
    "\n",
    "#Fetch the details of all distinct stores\n",
    "res  = oj_df['store'].unique()\n",
    "\n",
    "#Fetch all the observations for Tropicana brand\n",
    "oj_df[oj_df.brand == 'tropicana']\n",
    "\n",
    "#Fetch all the observations for Tropicana brand using query function\n",
    "oj_df.query(\"(brand == 'tropicana')\")\n",
    "\n",
    "#Fetch bottom 5 observations for those who have bought Tropicana or dominics\n",
    "oj_df.query(\"(brand == 'tropicana') | (brand =='dominics')\").tail()\n",
    "\n",
    "#Fetch the income, brand, price observations with Tropicana brand without feature advertisement\n",
    "oj_df.query(\"(brand == 'tropicana') & (feat == 0)\")[[\"INCOME\",\"brand\",\"price\"]]\n",
    "\n",
    "#Add a new column in the dataset: logInc which is the logarithm of the income\n",
    "oj_df['logInc'] = np.log(oj_df['INCOME'])\n",
    "oj_df['logInc']\n",
    "\n",
    "#Sort the Data in the increasing order of the week\n",
    "oj_df.sort_values(['week'],ascending = [1])\n",
    "\n",
    "#Sort the data in the decreasing order of Income\n",
    "oj_df.sort_values(['INCOME'],ascending = [0])\n",
    "\n",
    "#Find the mean of the juice price for each brand\n",
    "oj_df.groupby('brand')['price'].mean()\n",
    "\n",
    "#Find the average income for each brand and at each store\n",
    "oj_df.groupby(['brand','store'])['INCOME'].mean()\n",
    "\n",
    "#Find Mean and std deviation of the income\n",
    "np.std(oj_df['INCOME'])\n",
    "np.mean(oj_df['INCOME'])\n",
    "\n",
    "#For income greater than or equal to 10.5, find the mean income\n",
    "oj_df['INCOME'].mean()\n",
    "\n",
    "#For each brand having price >=2.5 find the mean, median, sd of the log of income\n",
    "oj_df[oj_df.price >= 2.5].groupby('brand').agg({'logInc':[np.mean,np.median,np.std]})\n",
    "\n",
    "#Find the Cross tabulation of brands and feature advertisement\n",
    "oj_df.groupby(['brand','feat']).count()\n"
   ]
  }
 ],
 "metadata": {
  "kernelspec": {
   "display_name": "Python 3",
   "language": "python",
   "name": "python3"
  },
  "language_info": {
   "codemirror_mode": {
    "name": "ipython",
    "version": 3
   },
   "file_extension": ".py",
   "mimetype": "text/x-python",
   "name": "python",
   "nbconvert_exporter": "python",
   "pygments_lexer": "ipython3",
   "version": "3.6.3"
  }
 },
 "nbformat": 4,
 "nbformat_minor": 2
}
